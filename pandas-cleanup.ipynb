{
 "metadata": {
  "language_info": {
   "codemirror_mode": {
    "name": "ipython",
    "version": 3
   },
   "file_extension": ".py",
   "mimetype": "text/x-python",
   "name": "python",
   "nbconvert_exporter": "python",
   "pygments_lexer": "ipython3",
   "version": "3.8.5-final"
  },
  "orig_nbformat": 2,
  "kernelspec": {
   "name": "python_defaultSpec_1599000260114",
   "display_name": "Python 3.8.5 64-bit ('PythonData': conda)"
  }
 },
 "nbformat": 4,
 "nbformat_minor": 2,
 "cells": [
  {
   "cell_type": "code",
   "execution_count": 1,
   "metadata": {},
   "outputs": [],
   "source": [
    "import pandas as pd\n",
    "from sqlalchemy import create_engine\n",
    "import requests"
   ]
  },
  {
   "cell_type": "markdown",
   "metadata": {},
   "source": [
    "### Extract CSVs into DataFrames"
   ]
  },
  {
   "cell_type": "code",
   "execution_count": 10,
   "metadata": {},
   "outputs": [
    {
     "output_type": "execute_result",
     "data": {
      "text/plain": "            ID                                               Name Sex   Age  \\\n278        145                                      Jeremy Abbott   M  28.0   \n2138      1188                    Benjamin Alexandro \"Ben\" Agosto   M  24.0   \n4156      2386         Tenley Emma Albright (-Gardiner, -Blakely)   F  16.0   \n4157      2386         Tenley Emma Albright (-Gardiner, -Blakely)   F  20.0   \n5041      2869                         Scott Ethan \"Scotty\" Allen   M  14.0   \n...        ...                                                ...  ..   ...   \n269085  134641                                        Zhao Hongbo   M  32.0   \n269086  134641                                        Zhao Hongbo   M  36.0   \n269554  134877  Tatyana Alekseyevna Zhuk (-Shesternyova, -Soko...   F  22.0   \n269575  134888           Aleksandr Vyacheslavovich \"Sasha\" Zhulin   M  28.0   \n269576  134888           Aleksandr Vyacheslavovich \"Sasha\" Zhulin   M  30.0   \n\n        Height  Weight             Team  NOC        Games  Year  Season  \\\n278      175.0    70.0    United States  USA  2014 Winter  2014  Winter   \n2138     178.0    75.0  United States-1  USA  2006 Winter  2006  Winter   \n4156       NaN     NaN    United States  USA  1952 Winter  1952  Winter   \n4157       NaN     NaN    United States  USA  1956 Winter  1956  Winter   \n5041     163.0    69.0    United States  USA  1964 Winter  1964  Winter   \n...        ...     ...              ...  ...          ...   ...     ...   \n269085   177.0    75.0          China-3  CHN  2006 Winter  2006  Winter   \n269086   177.0    75.0          China-1  CHN  2010 Winter  2010  Winter   \n269554   156.0    52.0   Soviet Union-2  URS  1968 Winter  1968  Winter   \n269575   176.0    70.0   Unified Team-2  EUN  1992 Winter  1992  Winter   \n269576   176.0    70.0         Russia-2  RUS  1994 Winter  1994  Winter   \n\n                     City           Sport                             Event  \\\n278                 Sochi  Figure Skating         Figure Skating Mixed Team   \n2138               Torino  Figure Skating  Figure Skating Mixed Ice Dancing   \n4156                 Oslo  Figure Skating    Figure Skating Women's Singles   \n4157    Cortina d'Ampezzo  Figure Skating    Figure Skating Women's Singles   \n5041            Innsbruck  Figure Skating      Figure Skating Men's Singles   \n...                   ...             ...                               ...   \n269085             Torino  Figure Skating        Figure Skating Mixed Pairs   \n269086          Vancouver  Figure Skating        Figure Skating Mixed Pairs   \n269554           Grenoble  Figure Skating        Figure Skating Mixed Pairs   \n269575        Albertville  Figure Skating  Figure Skating Mixed Ice Dancing   \n269576        Lillehammer  Figure Skating  Figure Skating Mixed Ice Dancing   \n\n         Medal  \n278     Bronze  \n2138    Silver  \n4156    Silver  \n4157      Gold  \n5041    Bronze  \n...        ...  \n269085  Bronze  \n269086    Gold  \n269554  Silver  \n269575  Bronze  \n269576  Silver  \n\n[386 rows x 15 columns]",
      "text/html": "<div>\n<style scoped>\n    .dataframe tbody tr th:only-of-type {\n        vertical-align: middle;\n    }\n\n    .dataframe tbody tr th {\n        vertical-align: top;\n    }\n\n    .dataframe thead th {\n        text-align: right;\n    }\n</style>\n<table border=\"1\" class=\"dataframe\">\n  <thead>\n    <tr style=\"text-align: right;\">\n      <th></th>\n      <th>ID</th>\n      <th>Name</th>\n      <th>Sex</th>\n      <th>Age</th>\n      <th>Height</th>\n      <th>Weight</th>\n      <th>Team</th>\n      <th>NOC</th>\n      <th>Games</th>\n      <th>Year</th>\n      <th>Season</th>\n      <th>City</th>\n      <th>Sport</th>\n      <th>Event</th>\n      <th>Medal</th>\n    </tr>\n  </thead>\n  <tbody>\n    <tr>\n      <th>278</th>\n      <td>145</td>\n      <td>Jeremy Abbott</td>\n      <td>M</td>\n      <td>28.0</td>\n      <td>175.0</td>\n      <td>70.0</td>\n      <td>United States</td>\n      <td>USA</td>\n      <td>2014 Winter</td>\n      <td>2014</td>\n      <td>Winter</td>\n      <td>Sochi</td>\n      <td>Figure Skating</td>\n      <td>Figure Skating Mixed Team</td>\n      <td>Bronze</td>\n    </tr>\n    <tr>\n      <th>2138</th>\n      <td>1188</td>\n      <td>Benjamin Alexandro \"Ben\" Agosto</td>\n      <td>M</td>\n      <td>24.0</td>\n      <td>178.0</td>\n      <td>75.0</td>\n      <td>United States-1</td>\n      <td>USA</td>\n      <td>2006 Winter</td>\n      <td>2006</td>\n      <td>Winter</td>\n      <td>Torino</td>\n      <td>Figure Skating</td>\n      <td>Figure Skating Mixed Ice Dancing</td>\n      <td>Silver</td>\n    </tr>\n    <tr>\n      <th>4156</th>\n      <td>2386</td>\n      <td>Tenley Emma Albright (-Gardiner, -Blakely)</td>\n      <td>F</td>\n      <td>16.0</td>\n      <td>NaN</td>\n      <td>NaN</td>\n      <td>United States</td>\n      <td>USA</td>\n      <td>1952 Winter</td>\n      <td>1952</td>\n      <td>Winter</td>\n      <td>Oslo</td>\n      <td>Figure Skating</td>\n      <td>Figure Skating Women's Singles</td>\n      <td>Silver</td>\n    </tr>\n    <tr>\n      <th>4157</th>\n      <td>2386</td>\n      <td>Tenley Emma Albright (-Gardiner, -Blakely)</td>\n      <td>F</td>\n      <td>20.0</td>\n      <td>NaN</td>\n      <td>NaN</td>\n      <td>United States</td>\n      <td>USA</td>\n      <td>1956 Winter</td>\n      <td>1956</td>\n      <td>Winter</td>\n      <td>Cortina d'Ampezzo</td>\n      <td>Figure Skating</td>\n      <td>Figure Skating Women's Singles</td>\n      <td>Gold</td>\n    </tr>\n    <tr>\n      <th>5041</th>\n      <td>2869</td>\n      <td>Scott Ethan \"Scotty\" Allen</td>\n      <td>M</td>\n      <td>14.0</td>\n      <td>163.0</td>\n      <td>69.0</td>\n      <td>United States</td>\n      <td>USA</td>\n      <td>1964 Winter</td>\n      <td>1964</td>\n      <td>Winter</td>\n      <td>Innsbruck</td>\n      <td>Figure Skating</td>\n      <td>Figure Skating Men's Singles</td>\n      <td>Bronze</td>\n    </tr>\n    <tr>\n      <th>...</th>\n      <td>...</td>\n      <td>...</td>\n      <td>...</td>\n      <td>...</td>\n      <td>...</td>\n      <td>...</td>\n      <td>...</td>\n      <td>...</td>\n      <td>...</td>\n      <td>...</td>\n      <td>...</td>\n      <td>...</td>\n      <td>...</td>\n      <td>...</td>\n      <td>...</td>\n    </tr>\n    <tr>\n      <th>269085</th>\n      <td>134641</td>\n      <td>Zhao Hongbo</td>\n      <td>M</td>\n      <td>32.0</td>\n      <td>177.0</td>\n      <td>75.0</td>\n      <td>China-3</td>\n      <td>CHN</td>\n      <td>2006 Winter</td>\n      <td>2006</td>\n      <td>Winter</td>\n      <td>Torino</td>\n      <td>Figure Skating</td>\n      <td>Figure Skating Mixed Pairs</td>\n      <td>Bronze</td>\n    </tr>\n    <tr>\n      <th>269086</th>\n      <td>134641</td>\n      <td>Zhao Hongbo</td>\n      <td>M</td>\n      <td>36.0</td>\n      <td>177.0</td>\n      <td>75.0</td>\n      <td>China-1</td>\n      <td>CHN</td>\n      <td>2010 Winter</td>\n      <td>2010</td>\n      <td>Winter</td>\n      <td>Vancouver</td>\n      <td>Figure Skating</td>\n      <td>Figure Skating Mixed Pairs</td>\n      <td>Gold</td>\n    </tr>\n    <tr>\n      <th>269554</th>\n      <td>134877</td>\n      <td>Tatyana Alekseyevna Zhuk (-Shesternyova, -Soko...</td>\n      <td>F</td>\n      <td>22.0</td>\n      <td>156.0</td>\n      <td>52.0</td>\n      <td>Soviet Union-2</td>\n      <td>URS</td>\n      <td>1968 Winter</td>\n      <td>1968</td>\n      <td>Winter</td>\n      <td>Grenoble</td>\n      <td>Figure Skating</td>\n      <td>Figure Skating Mixed Pairs</td>\n      <td>Silver</td>\n    </tr>\n    <tr>\n      <th>269575</th>\n      <td>134888</td>\n      <td>Aleksandr Vyacheslavovich \"Sasha\" Zhulin</td>\n      <td>M</td>\n      <td>28.0</td>\n      <td>176.0</td>\n      <td>70.0</td>\n      <td>Unified Team-2</td>\n      <td>EUN</td>\n      <td>1992 Winter</td>\n      <td>1992</td>\n      <td>Winter</td>\n      <td>Albertville</td>\n      <td>Figure Skating</td>\n      <td>Figure Skating Mixed Ice Dancing</td>\n      <td>Bronze</td>\n    </tr>\n    <tr>\n      <th>269576</th>\n      <td>134888</td>\n      <td>Aleksandr Vyacheslavovich \"Sasha\" Zhulin</td>\n      <td>M</td>\n      <td>30.0</td>\n      <td>176.0</td>\n      <td>70.0</td>\n      <td>Russia-2</td>\n      <td>RUS</td>\n      <td>1994 Winter</td>\n      <td>1994</td>\n      <td>Winter</td>\n      <td>Lillehammer</td>\n      <td>Figure Skating</td>\n      <td>Figure Skating Mixed Ice Dancing</td>\n      <td>Silver</td>\n    </tr>\n  </tbody>\n</table>\n<p>386 rows × 15 columns</p>\n</div>"
     },
     "metadata": {},
     "execution_count": 10
    }
   ],
   "source": [
    "# Filtering ou\n",
    "\n",
    "athlete_events = \"Resources/athlete_events.csv\"\n",
    "athlete_events_df = pd.read_csv(athlete_events)\n",
    "figure_skating_df = athlete_events_df[athlete_events_df['Sport'] == 'Figure Skating']\n",
    "\n",
    "\n",
    "# Drop Losers\n",
    "\n",
    "winners_figure_skating_df = figure_skating_df.dropna(subset=['Medal'])\n",
    "winners_figure_skating_df\n"
   ]
  },
  {
   "cell_type": "markdown",
   "metadata": {},
   "source": [
    "### Transform athlete DataFrame"
   ]
  },
  {
   "cell_type": "code",
   "execution_count": null,
   "metadata": {},
   "outputs": [],
   "source": [
    "athelete_columns = [\"ID\", \"Name\", \"Sex\", \"Age\", \"Height\", \"Weight\", \"Team\", \"NOC\", \"Games\", \"Year\", \"City\", \"Sport\", \"Event\", \"Medal\"]\n",
    "\n"
   ]
  },
  {
   "cell_type": "code",
   "execution_count": 3,
   "metadata": {},
   "outputs": [
    {
     "output_type": "error",
     "ename": "JSONDecodeError",
     "evalue": "Expecting value: line 2 column 25 (char 26)",
     "traceback": [
      "\u001b[1;31m---------------------------------------------------------------------------\u001b[0m",
      "\u001b[1;31mJSONDecodeError\u001b[0m                           Traceback (most recent call last)",
      "\u001b[1;32m<ipython-input-3-ea4107f6c3b4>\u001b[0m in \u001b[0;36m<module>\u001b[1;34m\u001b[0m\n\u001b[0;32m      8\u001b[0m \u001b[0murl\u001b[0m \u001b[1;33m=\u001b[0m \u001b[1;34m\"https://private-anon-e148276dd6-olympicsapi.apiary-mock.com/scrape/athletes/id\"\u001b[0m\u001b[1;33m\u001b[0m\u001b[1;33m\u001b[0m\u001b[0m\n\u001b[0;32m      9\u001b[0m \u001b[0mresponse\u001b[0m \u001b[1;33m=\u001b[0m \u001b[0mrequests\u001b[0m\u001b[1;33m.\u001b[0m\u001b[0mget\u001b[0m\u001b[1;33m(\u001b[0m\u001b[0murl\u001b[0m\u001b[1;33m)\u001b[0m\u001b[1;33m\u001b[0m\u001b[1;33m\u001b[0m\u001b[0m\n\u001b[1;32m---> 10\u001b[1;33m \u001b[0mresponse_json\u001b[0m \u001b[1;33m=\u001b[0m \u001b[0mresponse\u001b[0m\u001b[1;33m.\u001b[0m\u001b[0mjson\u001b[0m\u001b[1;33m(\u001b[0m\u001b[1;33m)\u001b[0m\u001b[1;33m\u001b[0m\u001b[1;33m\u001b[0m\u001b[0m\n\u001b[0m\u001b[0;32m     11\u001b[0m \u001b[0mprint\u001b[0m\u001b[1;33m(\u001b[0m\u001b[0mjson\u001b[0m\u001b[1;33m.\u001b[0m\u001b[0mdumps\u001b[0m\u001b[1;33m(\u001b[0m\u001b[0mresponse_json\u001b[0m\u001b[1;33m,\u001b[0m \u001b[0mindent\u001b[0m\u001b[1;33m=\u001b[0m\u001b[1;36m4\u001b[0m\u001b[1;33m,\u001b[0m \u001b[0msort_keys\u001b[0m\u001b[1;33m=\u001b[0m\u001b[1;32mTrue\u001b[0m\u001b[1;33m)\u001b[0m\u001b[1;33m)\u001b[0m\u001b[1;33m\u001b[0m\u001b[1;33m\u001b[0m\u001b[0m\n",
      "\u001b[1;32m~\\anaconda3\\envs\\PythonData\\lib\\site-packages\\requests\\models.py\u001b[0m in \u001b[0;36mjson\u001b[1;34m(self, **kwargs)\u001b[0m\n\u001b[0;32m    887\u001b[0m             \u001b[1;32mif\u001b[0m \u001b[0mencoding\u001b[0m \u001b[1;32mis\u001b[0m \u001b[1;32mnot\u001b[0m \u001b[1;32mNone\u001b[0m\u001b[1;33m:\u001b[0m\u001b[1;33m\u001b[0m\u001b[1;33m\u001b[0m\u001b[0m\n\u001b[0;32m    888\u001b[0m                 \u001b[1;32mtry\u001b[0m\u001b[1;33m:\u001b[0m\u001b[1;33m\u001b[0m\u001b[1;33m\u001b[0m\u001b[0m\n\u001b[1;32m--> 889\u001b[1;33m                     return complexjson.loads(\n\u001b[0m\u001b[0;32m    890\u001b[0m                         \u001b[0mself\u001b[0m\u001b[1;33m.\u001b[0m\u001b[0mcontent\u001b[0m\u001b[1;33m.\u001b[0m\u001b[0mdecode\u001b[0m\u001b[1;33m(\u001b[0m\u001b[0mencoding\u001b[0m\u001b[1;33m)\u001b[0m\u001b[1;33m,\u001b[0m \u001b[1;33m**\u001b[0m\u001b[0mkwargs\u001b[0m\u001b[1;33m\u001b[0m\u001b[1;33m\u001b[0m\u001b[0m\n\u001b[0;32m    891\u001b[0m                     )\n",
      "\u001b[1;32m~\\anaconda3\\envs\\PythonData\\lib\\json\\__init__.py\u001b[0m in \u001b[0;36mloads\u001b[1;34m(s, cls, object_hook, parse_float, parse_int, parse_constant, object_pairs_hook, **kw)\u001b[0m\n\u001b[0;32m    355\u001b[0m             \u001b[0mparse_int\u001b[0m \u001b[1;32mis\u001b[0m \u001b[1;32mNone\u001b[0m \u001b[1;32mand\u001b[0m \u001b[0mparse_float\u001b[0m \u001b[1;32mis\u001b[0m \u001b[1;32mNone\u001b[0m \u001b[1;32mand\u001b[0m\u001b[1;33m\u001b[0m\u001b[1;33m\u001b[0m\u001b[0m\n\u001b[0;32m    356\u001b[0m             parse_constant is None and object_pairs_hook is None and not kw):\n\u001b[1;32m--> 357\u001b[1;33m         \u001b[1;32mreturn\u001b[0m \u001b[0m_default_decoder\u001b[0m\u001b[1;33m.\u001b[0m\u001b[0mdecode\u001b[0m\u001b[1;33m(\u001b[0m\u001b[0ms\u001b[0m\u001b[1;33m)\u001b[0m\u001b[1;33m\u001b[0m\u001b[1;33m\u001b[0m\u001b[0m\n\u001b[0m\u001b[0;32m    358\u001b[0m     \u001b[1;32mif\u001b[0m \u001b[0mcls\u001b[0m \u001b[1;32mis\u001b[0m \u001b[1;32mNone\u001b[0m\u001b[1;33m:\u001b[0m\u001b[1;33m\u001b[0m\u001b[1;33m\u001b[0m\u001b[0m\n\u001b[0;32m    359\u001b[0m         \u001b[0mcls\u001b[0m \u001b[1;33m=\u001b[0m \u001b[0mJSONDecoder\u001b[0m\u001b[1;33m\u001b[0m\u001b[1;33m\u001b[0m\u001b[0m\n",
      "\u001b[1;32m~\\anaconda3\\envs\\PythonData\\lib\\json\\decoder.py\u001b[0m in \u001b[0;36mdecode\u001b[1;34m(self, s, _w)\u001b[0m\n\u001b[0;32m    335\u001b[0m \u001b[1;33m\u001b[0m\u001b[0m\n\u001b[0;32m    336\u001b[0m         \"\"\"\n\u001b[1;32m--> 337\u001b[1;33m         \u001b[0mobj\u001b[0m\u001b[1;33m,\u001b[0m \u001b[0mend\u001b[0m \u001b[1;33m=\u001b[0m \u001b[0mself\u001b[0m\u001b[1;33m.\u001b[0m\u001b[0mraw_decode\u001b[0m\u001b[1;33m(\u001b[0m\u001b[0ms\u001b[0m\u001b[1;33m,\u001b[0m \u001b[0midx\u001b[0m\u001b[1;33m=\u001b[0m\u001b[0m_w\u001b[0m\u001b[1;33m(\u001b[0m\u001b[0ms\u001b[0m\u001b[1;33m,\u001b[0m \u001b[1;36m0\u001b[0m\u001b[1;33m)\u001b[0m\u001b[1;33m.\u001b[0m\u001b[0mend\u001b[0m\u001b[1;33m(\u001b[0m\u001b[1;33m)\u001b[0m\u001b[1;33m)\u001b[0m\u001b[1;33m\u001b[0m\u001b[1;33m\u001b[0m\u001b[0m\n\u001b[0m\u001b[0;32m    338\u001b[0m         \u001b[0mend\u001b[0m \u001b[1;33m=\u001b[0m \u001b[0m_w\u001b[0m\u001b[1;33m(\u001b[0m\u001b[0ms\u001b[0m\u001b[1;33m,\u001b[0m \u001b[0mend\u001b[0m\u001b[1;33m)\u001b[0m\u001b[1;33m.\u001b[0m\u001b[0mend\u001b[0m\u001b[1;33m(\u001b[0m\u001b[1;33m)\u001b[0m\u001b[1;33m\u001b[0m\u001b[1;33m\u001b[0m\u001b[0m\n\u001b[0;32m    339\u001b[0m         \u001b[1;32mif\u001b[0m \u001b[0mend\u001b[0m \u001b[1;33m!=\u001b[0m \u001b[0mlen\u001b[0m\u001b[1;33m(\u001b[0m\u001b[0ms\u001b[0m\u001b[1;33m)\u001b[0m\u001b[1;33m:\u001b[0m\u001b[1;33m\u001b[0m\u001b[1;33m\u001b[0m\u001b[0m\n",
      "\u001b[1;32m~\\anaconda3\\envs\\PythonData\\lib\\json\\decoder.py\u001b[0m in \u001b[0;36mraw_decode\u001b[1;34m(self, s, idx)\u001b[0m\n\u001b[0;32m    353\u001b[0m             \u001b[0mobj\u001b[0m\u001b[1;33m,\u001b[0m \u001b[0mend\u001b[0m \u001b[1;33m=\u001b[0m \u001b[0mself\u001b[0m\u001b[1;33m.\u001b[0m\u001b[0mscan_once\u001b[0m\u001b[1;33m(\u001b[0m\u001b[0ms\u001b[0m\u001b[1;33m,\u001b[0m \u001b[0midx\u001b[0m\u001b[1;33m)\u001b[0m\u001b[1;33m\u001b[0m\u001b[1;33m\u001b[0m\u001b[0m\n\u001b[0;32m    354\u001b[0m         \u001b[1;32mexcept\u001b[0m \u001b[0mStopIteration\u001b[0m \u001b[1;32mas\u001b[0m \u001b[0merr\u001b[0m\u001b[1;33m:\u001b[0m\u001b[1;33m\u001b[0m\u001b[1;33m\u001b[0m\u001b[0m\n\u001b[1;32m--> 355\u001b[1;33m             \u001b[1;32mraise\u001b[0m \u001b[0mJSONDecodeError\u001b[0m\u001b[1;33m(\u001b[0m\u001b[1;34m\"Expecting value\"\u001b[0m\u001b[1;33m,\u001b[0m \u001b[0ms\u001b[0m\u001b[1;33m,\u001b[0m \u001b[0merr\u001b[0m\u001b[1;33m.\u001b[0m\u001b[0mvalue\u001b[0m\u001b[1;33m)\u001b[0m \u001b[1;32mfrom\u001b[0m \u001b[1;32mNone\u001b[0m\u001b[1;33m\u001b[0m\u001b[1;33m\u001b[0m\u001b[0m\n\u001b[0m\u001b[0;32m    356\u001b[0m         \u001b[1;32mreturn\u001b[0m \u001b[0mobj\u001b[0m\u001b[1;33m,\u001b[0m \u001b[0mend\u001b[0m\u001b[1;33m\u001b[0m\u001b[1;33m\u001b[0m\u001b[0m\n",
      "\u001b[1;31mJSONDecodeError\u001b[0m: Expecting value: line 2 column 25 (char 26)"
     ]
    }
   ],
   "source": [
    "# olympic_athletes_api = requests.get('https://private-anon-e148276dd6-olympicsapi.apiary-mock.com/scrape/athletes/id')\n",
    "\n",
    "# response = olympic_athletes_api.json()\n",
    "\n",
    "# athletes_df = pd.DataFrame\n",
    "\n",
    "\n",
    "\n",
    "url = \"https://api.sportradar.us/olympics/{access_level}/{version}/{language_code}/schedules/{year}-{month}-{day}/schedules.{format}?api_key={your_api_key}\"\n",
    "response = requests.get(url)\n",
    "response_json = response.json()\n",
    "print(json.dumps(response_json, indent=4, sort_keys=True))"
   ]
  },
  {
   "cell_type": "code",
   "execution_count": null,
   "metadata": {},
   "outputs": [],
   "source": []
  }
 ]
}