{
 "metadata": {
  "language_info": {
   "codemirror_mode": {
    "name": "ipython",
    "version": 3
   },
   "file_extension": ".py",
   "mimetype": "text/x-python",
   "name": "python",
   "nbconvert_exporter": "python",
   "pygments_lexer": "ipython3",
   "version": "3.8.5-final"
  },
  "orig_nbformat": 2,
  "kernelspec": {
   "name": "python_defaultSpec_1599005894064",
   "display_name": "Python 3.8.5 64-bit ('PythonData': conda)"
  }
 },
 "nbformat": 4,
 "nbformat_minor": 2,
 "cells": [
  {
   "cell_type": "code",
   "execution_count": 4,
   "metadata": {},
   "outputs": [],
   "source": [
    "import pandas as pd\n",
    "from sqlalchemy import create_engine\n",
    "import requests\n"
   ]
  },
  {
   "cell_type": "markdown",
   "metadata": {},
   "source": [
    "# Winter Olympics Figure Skating Winnters"
   ]
  },
  {
   "cell_type": "markdown",
   "metadata": {},
   "source": [
    "### Extract CSVs into DataFrames"
   ]
  },
  {
   "cell_type": "code",
   "execution_count": 11,
   "metadata": {},
   "outputs": [
    {
     "output_type": "execute_result",
     "data": {
      "text/plain": "            ID                                               Name Sex   Age  \\\n278        145                                      Jeremy Abbott   M  28.0   \n2138      1188                    Benjamin Alexandro \"Ben\" Agosto   M  24.0   \n4156      2386         Tenley Emma Albright (-Gardiner, -Blakely)   F  16.0   \n4157      2386         Tenley Emma Albright (-Gardiner, -Blakely)   F  20.0   \n5041      2869                         Scott Ethan \"Scotty\" Allen   M  14.0   \n...        ...                                                ...  ..   ...   \n269085  134641                                        Zhao Hongbo   M  32.0   \n269086  134641                                        Zhao Hongbo   M  36.0   \n269554  134877  Tatyana Alekseyevna Zhuk (-Shesternyova, -Soko...   F  22.0   \n269575  134888           Aleksandr Vyacheslavovich \"Sasha\" Zhulin   M  28.0   \n269576  134888           Aleksandr Vyacheslavovich \"Sasha\" Zhulin   M  30.0   \n\n        Height  Weight             Team  NOC        Games  Year  Season  \\\n278      175.0    70.0    United States  USA  2014 Winter  2014  Winter   \n2138     178.0    75.0  United States-1  USA  2006 Winter  2006  Winter   \n4156       NaN     NaN    United States  USA  1952 Winter  1952  Winter   \n4157       NaN     NaN    United States  USA  1956 Winter  1956  Winter   \n5041     163.0    69.0    United States  USA  1964 Winter  1964  Winter   \n...        ...     ...              ...  ...          ...   ...     ...   \n269085   177.0    75.0          China-3  CHN  2006 Winter  2006  Winter   \n269086   177.0    75.0          China-1  CHN  2010 Winter  2010  Winter   \n269554   156.0    52.0   Soviet Union-2  URS  1968 Winter  1968  Winter   \n269575   176.0    70.0   Unified Team-2  EUN  1992 Winter  1992  Winter   \n269576   176.0    70.0         Russia-2  RUS  1994 Winter  1994  Winter   \n\n                     City           Sport                             Event  \\\n278                 SOCHI  Figure Skating         Figure Skating Mixed Team   \n2138               TORINO  Figure Skating  Figure Skating Mixed Ice Dancing   \n4156                 OSLO  Figure Skating    Figure Skating Women's Singles   \n4157    CORTINA D'AMPEZZO  Figure Skating    Figure Skating Women's Singles   \n5041            INNSBRUCK  Figure Skating      Figure Skating Men's Singles   \n...                   ...             ...                               ...   \n269085             TORINO  Figure Skating        Figure Skating Mixed Pairs   \n269086          VANCOUVER  Figure Skating        Figure Skating Mixed Pairs   \n269554           GRENOBLE  Figure Skating        Figure Skating Mixed Pairs   \n269575        ALBERTVILLE  Figure Skating  Figure Skating Mixed Ice Dancing   \n269576        LILLEHAMMER  Figure Skating  Figure Skating Mixed Ice Dancing   \n\n         Medal  \n278     Bronze  \n2138    Silver  \n4156    Silver  \n4157      Gold  \n5041    Bronze  \n...        ...  \n269085  Bronze  \n269086    Gold  \n269554  Silver  \n269575  Bronze  \n269576  Silver  \n\n[386 rows x 15 columns]",
      "text/html": "<div>\n<style scoped>\n    .dataframe tbody tr th:only-of-type {\n        vertical-align: middle;\n    }\n\n    .dataframe tbody tr th {\n        vertical-align: top;\n    }\n\n    .dataframe thead th {\n        text-align: right;\n    }\n</style>\n<table border=\"1\" class=\"dataframe\">\n  <thead>\n    <tr style=\"text-align: right;\">\n      <th></th>\n      <th>ID</th>\n      <th>Name</th>\n      <th>Sex</th>\n      <th>Age</th>\n      <th>Height</th>\n      <th>Weight</th>\n      <th>Team</th>\n      <th>NOC</th>\n      <th>Games</th>\n      <th>Year</th>\n      <th>Season</th>\n      <th>City</th>\n      <th>Sport</th>\n      <th>Event</th>\n      <th>Medal</th>\n    </tr>\n  </thead>\n  <tbody>\n    <tr>\n      <th>278</th>\n      <td>145</td>\n      <td>Jeremy Abbott</td>\n      <td>M</td>\n      <td>28.0</td>\n      <td>175.0</td>\n      <td>70.0</td>\n      <td>United States</td>\n      <td>USA</td>\n      <td>2014 Winter</td>\n      <td>2014</td>\n      <td>Winter</td>\n      <td>SOCHI</td>\n      <td>Figure Skating</td>\n      <td>Figure Skating Mixed Team</td>\n      <td>Bronze</td>\n    </tr>\n    <tr>\n      <th>2138</th>\n      <td>1188</td>\n      <td>Benjamin Alexandro \"Ben\" Agosto</td>\n      <td>M</td>\n      <td>24.0</td>\n      <td>178.0</td>\n      <td>75.0</td>\n      <td>United States-1</td>\n      <td>USA</td>\n      <td>2006 Winter</td>\n      <td>2006</td>\n      <td>Winter</td>\n      <td>TORINO</td>\n      <td>Figure Skating</td>\n      <td>Figure Skating Mixed Ice Dancing</td>\n      <td>Silver</td>\n    </tr>\n    <tr>\n      <th>4156</th>\n      <td>2386</td>\n      <td>Tenley Emma Albright (-Gardiner, -Blakely)</td>\n      <td>F</td>\n      <td>16.0</td>\n      <td>NaN</td>\n      <td>NaN</td>\n      <td>United States</td>\n      <td>USA</td>\n      <td>1952 Winter</td>\n      <td>1952</td>\n      <td>Winter</td>\n      <td>OSLO</td>\n      <td>Figure Skating</td>\n      <td>Figure Skating Women's Singles</td>\n      <td>Silver</td>\n    </tr>\n    <tr>\n      <th>4157</th>\n      <td>2386</td>\n      <td>Tenley Emma Albright (-Gardiner, -Blakely)</td>\n      <td>F</td>\n      <td>20.0</td>\n      <td>NaN</td>\n      <td>NaN</td>\n      <td>United States</td>\n      <td>USA</td>\n      <td>1956 Winter</td>\n      <td>1956</td>\n      <td>Winter</td>\n      <td>CORTINA D'AMPEZZO</td>\n      <td>Figure Skating</td>\n      <td>Figure Skating Women's Singles</td>\n      <td>Gold</td>\n    </tr>\n    <tr>\n      <th>5041</th>\n      <td>2869</td>\n      <td>Scott Ethan \"Scotty\" Allen</td>\n      <td>M</td>\n      <td>14.0</td>\n      <td>163.0</td>\n      <td>69.0</td>\n      <td>United States</td>\n      <td>USA</td>\n      <td>1964 Winter</td>\n      <td>1964</td>\n      <td>Winter</td>\n      <td>INNSBRUCK</td>\n      <td>Figure Skating</td>\n      <td>Figure Skating Men's Singles</td>\n      <td>Bronze</td>\n    </tr>\n    <tr>\n      <th>...</th>\n      <td>...</td>\n      <td>...</td>\n      <td>...</td>\n      <td>...</td>\n      <td>...</td>\n      <td>...</td>\n      <td>...</td>\n      <td>...</td>\n      <td>...</td>\n      <td>...</td>\n      <td>...</td>\n      <td>...</td>\n      <td>...</td>\n      <td>...</td>\n      <td>...</td>\n    </tr>\n    <tr>\n      <th>269085</th>\n      <td>134641</td>\n      <td>Zhao Hongbo</td>\n      <td>M</td>\n      <td>32.0</td>\n      <td>177.0</td>\n      <td>75.0</td>\n      <td>China-3</td>\n      <td>CHN</td>\n      <td>2006 Winter</td>\n      <td>2006</td>\n      <td>Winter</td>\n      <td>TORINO</td>\n      <td>Figure Skating</td>\n      <td>Figure Skating Mixed Pairs</td>\n      <td>Bronze</td>\n    </tr>\n    <tr>\n      <th>269086</th>\n      <td>134641</td>\n      <td>Zhao Hongbo</td>\n      <td>M</td>\n      <td>36.0</td>\n      <td>177.0</td>\n      <td>75.0</td>\n      <td>China-1</td>\n      <td>CHN</td>\n      <td>2010 Winter</td>\n      <td>2010</td>\n      <td>Winter</td>\n      <td>VANCOUVER</td>\n      <td>Figure Skating</td>\n      <td>Figure Skating Mixed Pairs</td>\n      <td>Gold</td>\n    </tr>\n    <tr>\n      <th>269554</th>\n      <td>134877</td>\n      <td>Tatyana Alekseyevna Zhuk (-Shesternyova, -Soko...</td>\n      <td>F</td>\n      <td>22.0</td>\n      <td>156.0</td>\n      <td>52.0</td>\n      <td>Soviet Union-2</td>\n      <td>URS</td>\n      <td>1968 Winter</td>\n      <td>1968</td>\n      <td>Winter</td>\n      <td>GRENOBLE</td>\n      <td>Figure Skating</td>\n      <td>Figure Skating Mixed Pairs</td>\n      <td>Silver</td>\n    </tr>\n    <tr>\n      <th>269575</th>\n      <td>134888</td>\n      <td>Aleksandr Vyacheslavovich \"Sasha\" Zhulin</td>\n      <td>M</td>\n      <td>28.0</td>\n      <td>176.0</td>\n      <td>70.0</td>\n      <td>Unified Team-2</td>\n      <td>EUN</td>\n      <td>1992 Winter</td>\n      <td>1992</td>\n      <td>Winter</td>\n      <td>ALBERTVILLE</td>\n      <td>Figure Skating</td>\n      <td>Figure Skating Mixed Ice Dancing</td>\n      <td>Bronze</td>\n    </tr>\n    <tr>\n      <th>269576</th>\n      <td>134888</td>\n      <td>Aleksandr Vyacheslavovich \"Sasha\" Zhulin</td>\n      <td>M</td>\n      <td>30.0</td>\n      <td>176.0</td>\n      <td>70.0</td>\n      <td>Russia-2</td>\n      <td>RUS</td>\n      <td>1994 Winter</td>\n      <td>1994</td>\n      <td>Winter</td>\n      <td>LILLEHAMMER</td>\n      <td>Figure Skating</td>\n      <td>Figure Skating Mixed Ice Dancing</td>\n      <td>Silver</td>\n    </tr>\n  </tbody>\n</table>\n<p>386 rows × 15 columns</p>\n</div>"
     },
     "metadata": {},
     "execution_count": 11
    }
   ],
   "source": [
    "# Filtering ou\n",
    "\n",
    "athlete_events = \"Resources/athlete_events.csv\"\n",
    "athlete_events_df = pd.read_csv(athlete_events)\n",
    "figure_skating_df = athlete_events_df[athlete_events_df['Sport'] == 'Figure Skating']\n",
    "figure_skating_df['City'] = figure_skating_df['City'].str.upper()\n",
    "\n",
    "# Drop Losers\n",
    "\n",
    "winners_figure_skating_df = figure_skating_df.dropna(subset=['Medal'])\n",
    "winners_figure_skating_df\n"
   ]
  },
  {
   "cell_type": "markdown",
   "metadata": {},
   "source": [
    "# Olympic Sports and Medals, 1896-2014"
   ]
  },
  {
   "cell_type": "code",
   "execution_count": 12,
   "metadata": {},
   "outputs": [
    {
     "output_type": "execute_result",
     "data": {
      "text/plain": "      Year      City     Sport Discipline               Athlete Country  \\\n0     1924  CHAMONIX  Biathlon   Biathlon           BERTHET, G.     FRA   \n1     1924  CHAMONIX  Biathlon   Biathlon        MANDRILLON, C.     FRA   \n2     1924  CHAMONIX  Biathlon   Biathlon   MANDRILLON, Maurice     FRA   \n3     1924  CHAMONIX  Biathlon   Biathlon       VANDELLE, André     FRA   \n4     1924  CHAMONIX  Biathlon   Biathlon  AUFDENBLATTEN, Adolf     SUI   \n...    ...       ...       ...        ...                   ...     ...   \n5765  2014     SOCHI    Skiing  Snowboard          JONES, Jenny     GBR   \n5766  2014     SOCHI    Skiing  Snowboard       ANDERSON, Jamie     USA   \n5767  2014     SOCHI    Skiing  Snowboard    MALTAIS, Dominique     CAN   \n5768  2014     SOCHI    Skiing  Snowboard          SAMKOVA, Eva     CZE   \n5769  2014     SOCHI    Skiing  Snowboard      TRESPEUCH, Chloe     FRA   \n\n     Gender            Event   Medal  \n0       Men  Military Patrol  Bronze  \n1       Men  Military Patrol  Bronze  \n2       Men  Military Patrol  Bronze  \n3       Men  Military Patrol  Bronze  \n4       Men  Military Patrol    Gold  \n...     ...              ...     ...  \n5765  Women       Slopestyle  Bronze  \n5766  Women       Slopestyle    Gold  \n5767  Women  Snowboard Cross  Silver  \n5768  Women  Snowboard Cross    Gold  \n5769  Women  Snowboard Cross  Bronze  \n\n[5770 rows x 9 columns]",
      "text/html": "<div>\n<style scoped>\n    .dataframe tbody tr th:only-of-type {\n        vertical-align: middle;\n    }\n\n    .dataframe tbody tr th {\n        vertical-align: top;\n    }\n\n    .dataframe thead th {\n        text-align: right;\n    }\n</style>\n<table border=\"1\" class=\"dataframe\">\n  <thead>\n    <tr style=\"text-align: right;\">\n      <th></th>\n      <th>Year</th>\n      <th>City</th>\n      <th>Sport</th>\n      <th>Discipline</th>\n      <th>Athlete</th>\n      <th>Country</th>\n      <th>Gender</th>\n      <th>Event</th>\n      <th>Medal</th>\n    </tr>\n  </thead>\n  <tbody>\n    <tr>\n      <th>0</th>\n      <td>1924</td>\n      <td>CHAMONIX</td>\n      <td>Biathlon</td>\n      <td>Biathlon</td>\n      <td>BERTHET, G.</td>\n      <td>FRA</td>\n      <td>Men</td>\n      <td>Military Patrol</td>\n      <td>Bronze</td>\n    </tr>\n    <tr>\n      <th>1</th>\n      <td>1924</td>\n      <td>CHAMONIX</td>\n      <td>Biathlon</td>\n      <td>Biathlon</td>\n      <td>MANDRILLON, C.</td>\n      <td>FRA</td>\n      <td>Men</td>\n      <td>Military Patrol</td>\n      <td>Bronze</td>\n    </tr>\n    <tr>\n      <th>2</th>\n      <td>1924</td>\n      <td>CHAMONIX</td>\n      <td>Biathlon</td>\n      <td>Biathlon</td>\n      <td>MANDRILLON, Maurice</td>\n      <td>FRA</td>\n      <td>Men</td>\n      <td>Military Patrol</td>\n      <td>Bronze</td>\n    </tr>\n    <tr>\n      <th>3</th>\n      <td>1924</td>\n      <td>CHAMONIX</td>\n      <td>Biathlon</td>\n      <td>Biathlon</td>\n      <td>VANDELLE, André</td>\n      <td>FRA</td>\n      <td>Men</td>\n      <td>Military Patrol</td>\n      <td>Bronze</td>\n    </tr>\n    <tr>\n      <th>4</th>\n      <td>1924</td>\n      <td>CHAMONIX</td>\n      <td>Biathlon</td>\n      <td>Biathlon</td>\n      <td>AUFDENBLATTEN, Adolf</td>\n      <td>SUI</td>\n      <td>Men</td>\n      <td>Military Patrol</td>\n      <td>Gold</td>\n    </tr>\n    <tr>\n      <th>...</th>\n      <td>...</td>\n      <td>...</td>\n      <td>...</td>\n      <td>...</td>\n      <td>...</td>\n      <td>...</td>\n      <td>...</td>\n      <td>...</td>\n      <td>...</td>\n    </tr>\n    <tr>\n      <th>5765</th>\n      <td>2014</td>\n      <td>SOCHI</td>\n      <td>Skiing</td>\n      <td>Snowboard</td>\n      <td>JONES, Jenny</td>\n      <td>GBR</td>\n      <td>Women</td>\n      <td>Slopestyle</td>\n      <td>Bronze</td>\n    </tr>\n    <tr>\n      <th>5766</th>\n      <td>2014</td>\n      <td>SOCHI</td>\n      <td>Skiing</td>\n      <td>Snowboard</td>\n      <td>ANDERSON, Jamie</td>\n      <td>USA</td>\n      <td>Women</td>\n      <td>Slopestyle</td>\n      <td>Gold</td>\n    </tr>\n    <tr>\n      <th>5767</th>\n      <td>2014</td>\n      <td>SOCHI</td>\n      <td>Skiing</td>\n      <td>Snowboard</td>\n      <td>MALTAIS, Dominique</td>\n      <td>CAN</td>\n      <td>Women</td>\n      <td>Snowboard Cross</td>\n      <td>Silver</td>\n    </tr>\n    <tr>\n      <th>5768</th>\n      <td>2014</td>\n      <td>SOCHI</td>\n      <td>Skiing</td>\n      <td>Snowboard</td>\n      <td>SAMKOVA, Eva</td>\n      <td>CZE</td>\n      <td>Women</td>\n      <td>Snowboard Cross</td>\n      <td>Gold</td>\n    </tr>\n    <tr>\n      <th>5769</th>\n      <td>2014</td>\n      <td>SOCHI</td>\n      <td>Skiing</td>\n      <td>Snowboard</td>\n      <td>TRESPEUCH, Chloe</td>\n      <td>FRA</td>\n      <td>Women</td>\n      <td>Snowboard Cross</td>\n      <td>Bronze</td>\n    </tr>\n  </tbody>\n</table>\n<p>5770 rows × 9 columns</p>\n</div>"
     },
     "metadata": {},
     "execution_count": 12
    }
   ],
   "source": [
    "medals = \"Resources/Olympic_Sports_and_Medals1896_2014.csv\"\n",
    "medals_df = pd.read_csv(medals)\n",
    "medals_df['City'] = medals_df['City'].str.upper()\n",
    "\n",
    "medals_df"
   ]
  },
  {
   "cell_type": "markdown",
   "metadata": {},
   "source": [
    "# UFO Sightings around the world\n",
    "### 80,000+ documented close encounters from the past 70 years"
   ]
  },
  {
   "cell_type": "code",
   "execution_count": 17,
   "metadata": {},
   "outputs": [
    {
     "output_type": "execute_result",
     "data": {
      "text/plain": "              Date_time                  city state or province country  \\\n0      10/10/1949 20:30            SAN MARCOS                tx      us   \n1      10/10/1949 21:00          LACKLAND AFB                tx     NaN   \n2      10/10/1955 17:00  CHESTER (UK/ENGLAND)               NaN      gb   \n3      10/10/1956 21:00                  EDNA                tx      us   \n4      10/10/1960 20:00               KANEOHE                hi      us   \n...                 ...                   ...               ...     ...   \n80327    9/9/2013 21:15             NASHVILLE                tn      us   \n80328    9/9/2013 22:00                 BOISE                id      us   \n80329    9/9/2013 22:00                  NAPA                ca      us   \n80330    9/9/2013 22:20                VIENNA                va      us   \n80331    9/9/2013 23:00                EDMOND                ok      us   \n\n      UFO_shape length_of_encounter_seconds  \\\n0      cylinder                        2700   \n1         light                        7200   \n2        circle                          20   \n3        circle                          20   \n4         light                         900   \n...         ...                         ...   \n80327     light                         600   \n80328    circle                        1200   \n80329     other                        1200   \n80330    circle                           5   \n80331     cigar                        1020   \n\n                                             description date_documented  \\\n0      This event took place in early fall around 194...       4/27/2004   \n1      1949 Lackland AFB&#44 TX.  Lights racing acros...      12/16/2005   \n2      Green/Orange circular disc over Chester&#44 En...       1/21/2008   \n3      My older brother and twin sister were leaving ...       1/17/2004   \n4      AS a Marine 1st Lt. flying an FJ4B fighter/att...       1/22/2004   \n...                                                  ...             ...   \n80327  Round from the distance/slowly changing colors...       9/30/2013   \n80328  Boise&#44 ID&#44 spherical&#44 20 min&#44 10 r...       9/30/2013   \n80329                                       Napa UFO&#44       9/30/2013   \n80330  Saw a five gold lit cicular craft moving fastl...       9/30/2013   \n80331  2 witnesses 2  miles apart&#44 Red &amp; White...       9/30/2013   \n\n         latitude   longitude  \n0      29.8830556  -97.941111  \n1        29.38421  -98.581082  \n2            53.2   -2.916667  \n3      28.9783333  -96.645833  \n4      21.4180556 -157.803611  \n...           ...         ...  \n80327     36.1658  -86.784444  \n80328     43.6136 -116.202500  \n80329     38.2972 -122.284444  \n80330     38.9011  -77.265556  \n80331     35.6528  -97.477778  \n\n[80332 rows x 10 columns]",
      "text/html": "<div>\n<style scoped>\n    .dataframe tbody tr th:only-of-type {\n        vertical-align: middle;\n    }\n\n    .dataframe tbody tr th {\n        vertical-align: top;\n    }\n\n    .dataframe thead th {\n        text-align: right;\n    }\n</style>\n<table border=\"1\" class=\"dataframe\">\n  <thead>\n    <tr style=\"text-align: right;\">\n      <th></th>\n      <th>Date_time</th>\n      <th>city</th>\n      <th>state or province</th>\n      <th>country</th>\n      <th>UFO_shape</th>\n      <th>length_of_encounter_seconds</th>\n      <th>description</th>\n      <th>date_documented</th>\n      <th>latitude</th>\n      <th>longitude</th>\n    </tr>\n  </thead>\n  <tbody>\n    <tr>\n      <th>0</th>\n      <td>10/10/1949 20:30</td>\n      <td>SAN MARCOS</td>\n      <td>tx</td>\n      <td>us</td>\n      <td>cylinder</td>\n      <td>2700</td>\n      <td>This event took place in early fall around 194...</td>\n      <td>4/27/2004</td>\n      <td>29.8830556</td>\n      <td>-97.941111</td>\n    </tr>\n    <tr>\n      <th>1</th>\n      <td>10/10/1949 21:00</td>\n      <td>LACKLAND AFB</td>\n      <td>tx</td>\n      <td>NaN</td>\n      <td>light</td>\n      <td>7200</td>\n      <td>1949 Lackland AFB&amp;#44 TX.  Lights racing acros...</td>\n      <td>12/16/2005</td>\n      <td>29.38421</td>\n      <td>-98.581082</td>\n    </tr>\n    <tr>\n      <th>2</th>\n      <td>10/10/1955 17:00</td>\n      <td>CHESTER (UK/ENGLAND)</td>\n      <td>NaN</td>\n      <td>gb</td>\n      <td>circle</td>\n      <td>20</td>\n      <td>Green/Orange circular disc over Chester&amp;#44 En...</td>\n      <td>1/21/2008</td>\n      <td>53.2</td>\n      <td>-2.916667</td>\n    </tr>\n    <tr>\n      <th>3</th>\n      <td>10/10/1956 21:00</td>\n      <td>EDNA</td>\n      <td>tx</td>\n      <td>us</td>\n      <td>circle</td>\n      <td>20</td>\n      <td>My older brother and twin sister were leaving ...</td>\n      <td>1/17/2004</td>\n      <td>28.9783333</td>\n      <td>-96.645833</td>\n    </tr>\n    <tr>\n      <th>4</th>\n      <td>10/10/1960 20:00</td>\n      <td>KANEOHE</td>\n      <td>hi</td>\n      <td>us</td>\n      <td>light</td>\n      <td>900</td>\n      <td>AS a Marine 1st Lt. flying an FJ4B fighter/att...</td>\n      <td>1/22/2004</td>\n      <td>21.4180556</td>\n      <td>-157.803611</td>\n    </tr>\n    <tr>\n      <th>...</th>\n      <td>...</td>\n      <td>...</td>\n      <td>...</td>\n      <td>...</td>\n      <td>...</td>\n      <td>...</td>\n      <td>...</td>\n      <td>...</td>\n      <td>...</td>\n      <td>...</td>\n    </tr>\n    <tr>\n      <th>80327</th>\n      <td>9/9/2013 21:15</td>\n      <td>NASHVILLE</td>\n      <td>tn</td>\n      <td>us</td>\n      <td>light</td>\n      <td>600</td>\n      <td>Round from the distance/slowly changing colors...</td>\n      <td>9/30/2013</td>\n      <td>36.1658</td>\n      <td>-86.784444</td>\n    </tr>\n    <tr>\n      <th>80328</th>\n      <td>9/9/2013 22:00</td>\n      <td>BOISE</td>\n      <td>id</td>\n      <td>us</td>\n      <td>circle</td>\n      <td>1200</td>\n      <td>Boise&amp;#44 ID&amp;#44 spherical&amp;#44 20 min&amp;#44 10 r...</td>\n      <td>9/30/2013</td>\n      <td>43.6136</td>\n      <td>-116.202500</td>\n    </tr>\n    <tr>\n      <th>80329</th>\n      <td>9/9/2013 22:00</td>\n      <td>NAPA</td>\n      <td>ca</td>\n      <td>us</td>\n      <td>other</td>\n      <td>1200</td>\n      <td>Napa UFO&amp;#44</td>\n      <td>9/30/2013</td>\n      <td>38.2972</td>\n      <td>-122.284444</td>\n    </tr>\n    <tr>\n      <th>80330</th>\n      <td>9/9/2013 22:20</td>\n      <td>VIENNA</td>\n      <td>va</td>\n      <td>us</td>\n      <td>circle</td>\n      <td>5</td>\n      <td>Saw a five gold lit cicular craft moving fastl...</td>\n      <td>9/30/2013</td>\n      <td>38.9011</td>\n      <td>-77.265556</td>\n    </tr>\n    <tr>\n      <th>80331</th>\n      <td>9/9/2013 23:00</td>\n      <td>EDMOND</td>\n      <td>ok</td>\n      <td>us</td>\n      <td>cigar</td>\n      <td>1020</td>\n      <td>2 witnesses 2  miles apart&amp;#44 Red &amp;amp; White...</td>\n      <td>9/30/2013</td>\n      <td>35.6528</td>\n      <td>-97.477778</td>\n    </tr>\n  </tbody>\n</table>\n<p>80332 rows × 10 columns</p>\n</div>"
     },
     "metadata": {},
     "execution_count": 17
    }
   ],
   "source": [
    "ufos = \"Resources/ufo_sighting_data.csv\"\n",
    "ufos_df = pd.read_csv(ufos)\n",
    "\n",
    "ufos_df['city'] = ufos_df['city'].str.upper()\n",
    "del ufos_df['described_duration_of_encounter']\n",
    "\n",
    "ufos_df = ufos_df.rename(columns={'state/province':'state or province'})\n",
    "\n",
    "\n",
    "\n",
    "ufos_df"
   ]
  },
  {
   "cell_type": "code",
   "execution_count": null,
   "metadata": {},
   "outputs": [],
   "source": []
  }
 ]
}